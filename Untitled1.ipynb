{
 "cells": [
  {
   "cell_type": "code",
   "execution_count": 5,
   "id": "8527715a",
   "metadata": {},
   "outputs": [],
   "source": [
    "import cv2\n",
    "import math"
   ]
  },
  {
   "cell_type": "code",
   "execution_count": 6,
   "id": "2406ec0f",
   "metadata": {},
   "outputs": [],
   "source": [
    "from cvzone.HandTrackingModule import HandDetector\n",
    "import numpy  as np"
   ]
  },
  {
   "cell_type": "code",
   "execution_count": 7,
   "id": "d4dc4ee3",
   "metadata": {},
   "outputs": [],
   "source": [
    "cap = cv2.VideoCapture(0)\n",
    "detector = HandDetector(maxHands = 1)\n",
    "imgSize =300"
   ]
  },
  {
   "cell_type": "code",
   "execution_count": 8,
   "id": "585bfdbc",
   "metadata": {
    "scrolled": false
   },
   "outputs": [],
   "source": [
    "offset = 20\n",
    "while True:   \n",
    "    success,img = cap.read()\n",
    "    hands,img = detector.findHands(img)\n",
    "    if hands:\n",
    "        hand = hands[0]\n",
    "        x,y,w,h=hand['bbox']\n",
    "        \n",
    "        imgWhite = np.ones((imgSize,imgSize,3),np.uint8) *255\n",
    "        imgCrop = img[y-offset:y+h+offset,x-offset:x+w+offset]\n",
    "        \n",
    "        imgCropShape = imgCrop.shape\n",
    "        imgWhite[0:imgCropShape[0],0:imgCropShape[1]] = imgCrop\n",
    "        aspectRatio = h /w\n",
    "        if aspectRatio > 1:\n",
    "            k = imgSize / h\n",
    "            wCal = math.ceil(k*w)\n",
    "            imgResize = cv2.resize(imgCrop,(wCal,imgSize))\n",
    "            imgResizeShape = imgResize.shape\n",
    "            imgWhite[0:imgResizeShape[0],0:imgResizeShape[1]] = imgResize\n",
    "        \n",
    "        cv2.imshow(\"ImageCrop\",imgCrop)\n",
    "        cv2.imshow(\"ImageWhite\",imgWhite)\n",
    "    cv2.imshow(\"Image\",img)\n",
    "    if cv2.waitKey(1) == ord('q'):\n",
    "        break\n",
    "# When everything done, release the capture\n",
    "cap.release()\n",
    "cv2.destroyAllWindows()"
   ]
  },
  {
   "cell_type": "code",
   "execution_count": null,
   "id": "f69032b9",
   "metadata": {},
   "outputs": [],
   "source": []
  },
  {
   "cell_type": "code",
   "execution_count": null,
   "id": "2f1dd1ee",
   "metadata": {},
   "outputs": [],
   "source": []
  },
  {
   "cell_type": "code",
   "execution_count": null,
   "id": "84eeaa3c",
   "metadata": {},
   "outputs": [],
   "source": []
  }
 ],
 "metadata": {
  "kernelspec": {
   "display_name": "Python 3 (ipykernel)",
   "language": "python",
   "name": "python3"
  },
  "language_info": {
   "codemirror_mode": {
    "name": "ipython",
    "version": 3
   },
   "file_extension": ".py",
   "mimetype": "text/x-python",
   "name": "python",
   "nbconvert_exporter": "python",
   "pygments_lexer": "ipython3",
   "version": "3.9.12"
  }
 },
 "nbformat": 4,
 "nbformat_minor": 5
}
