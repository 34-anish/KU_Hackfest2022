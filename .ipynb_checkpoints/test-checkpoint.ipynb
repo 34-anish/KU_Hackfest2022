{
 "cells": [
  {
   "cell_type": "code",
   "execution_count": 37,
   "id": "8527715a",
   "metadata": {},
   "outputs": [],
   "source": [
    "import cv2\n",
    "import math\n",
    "import time"
   ]
  },
  {
   "cell_type": "code",
   "execution_count": 38,
   "id": "2406ec0f",
   "metadata": {},
   "outputs": [],
   "source": [
    "from cvzone.HandTrackingModule import HandDetector\n",
    "from cvzone.ClassificationModule import   Classifier\n",
    "import numpy  as np"
   ]
  },
  {
   "cell_type": "code",
   "execution_count": 39,
   "id": "d4dc4ee3",
   "metadata": {},
   "outputs": [
    {
     "name": "stdout",
     "output_type": "stream",
     "text": [
      "WARNING:tensorflow:No training configuration found in the save file, so the model was *not* compiled. Compile it manually.\n"
     ]
    }
   ],
   "source": [
    "cap = cv2.VideoCapture(0)\n",
    "detector = HandDetector(maxHands = 1)\n",
    "classifier = Classifier(\"Model/keras_model.h5\",\"Model/labels.txt\")\n",
    "imgSize =300\n",
    "folder = \"Data/D\"\n",
    "counter = 0\n",
    "labels =[\"A\",\"B\",\"C\",\"D\"]"
   ]
  },
  {
   "cell_type": "code",
   "execution_count": null,
   "id": "585bfdbc",
   "metadata": {
    "scrolled": true
   },
   "outputs": [],
   "source": [
    "offset = 20\n",
    "while True:   \n",
    "    success,img = cap.read()\n",
    "    hands,img = detector.findHands(img)\n",
    "    if hands:\n",
    "        hand = hands[0]\n",
    "        x,y,w,h=hand['bbox']\n",
    "        \n",
    "        imgWhite = np.ones((imgSize,imgSize,3),np.uint8) *255\n",
    "        imgCrop = img[y-offset:y+h+offset,x-offset:x+w+offset]\n",
    "        \n",
    "        imgCropShape = imgCrop.shape\n",
    "        imgWhite[0:imgCropShape[0],0:imgCropShape[1]] = imgCrop\n",
    "        aspectRatio = h /w\n",
    "        if aspectRatio > 1:\n",
    "            k = imgSize / h\n",
    "            wCal = math.ceil(k*w)\n",
    "            imgResize = cv2.resize(imgCrop,(wCal,imgSize))\n",
    "            imgResizeShape = imgResize.shape\n",
    "            wGap = math.ceil((imgSize-wCal)/2)\n",
    "            imgWhite[:,:imgResizeShape[1]] = imgResize\n",
    "            prediction , index = classifier.getPrediction(img)\n",
    "            print(prediction,index)\n",
    "        else:\n",
    "            k = imgSize / w\n",
    "            hCal = math.ceil(k*h)\n",
    "            imgResize = cv2.resize(imgCrop,(imgSize,hCal))\n",
    "            imgResizeShape = imgResize.shape\n",
    "            hGap = math.ceil((imgSize-hCal)/2)\n",
    "            imgWhite[hGap:hCal+hGap,:] = imgResize\n",
    "        \n",
    "        cv2.imshow(\"ImageCrop\",imgCrop)\n",
    "        cv2.imshow(\"ImageWhite\",imgWhite)\n",
    "    cv2.imshow(\"Image\",img)\n",
    "    key = cv2.waitKey(1)\n",
    "    if key == ord(\"s\"):\n",
    "        counter += 1\n",
    "        cv2.imwrite(f'{folder}/Image_{time.time()}.jpg',imgCrop)\n",
    "        print(counter)\n",
    "    if key == ord('q'):\n",
    "        break\n",
    "# When everything done, release the capture\n",
    "cap.release()\n",
    "cv2.destroyAllWindows()"
   ]
  },
  {
   "cell_type": "code",
   "execution_count": null,
   "id": "f69032b9",
   "metadata": {},
   "outputs": [],
   "source": []
  },
  {
   "cell_type": "code",
   "execution_count": null,
   "id": "2f1dd1ee",
   "metadata": {},
   "outputs": [],
   "source": []
  },
  {
   "cell_type": "code",
   "execution_count": null,
   "id": "84eeaa3c",
   "metadata": {},
   "outputs": [],
   "source": []
  },
  {
   "cell_type": "code",
   "execution_count": null,
   "id": "6b6426c2",
   "metadata": {},
   "outputs": [],
   "source": []
  },
  {
   "cell_type": "code",
   "execution_count": null,
   "id": "a198bf12",
   "metadata": {},
   "outputs": [],
   "source": []
  },
  {
   "cell_type": "code",
   "execution_count": null,
   "id": "66a58902",
   "metadata": {},
   "outputs": [],
   "source": []
  },
  {
   "cell_type": "code",
   "execution_count": null,
   "id": "4f6d6895",
   "metadata": {},
   "outputs": [],
   "source": []
  }
 ],
 "metadata": {
  "kernelspec": {
   "display_name": "Python 3 (ipykernel)",
   "language": "python",
   "name": "python3"
  },
  "language_info": {
   "codemirror_mode": {
    "name": "ipython",
    "version": 3
   },
   "file_extension": ".py",
   "mimetype": "text/x-python",
   "name": "python",
   "nbconvert_exporter": "python",
   "pygments_lexer": "ipython3",
   "version": "3.9.12"
  }
 },
 "nbformat": 4,
 "nbformat_minor": 5
}
